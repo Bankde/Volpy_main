{
 "cells": [
  {
   "cell_type": "code",
   "execution_count": 1,
   "id": "8d79d514",
   "metadata": {},
   "outputs": [],
   "source": [
    "src = \"\"\"\n",
    "class Test():\n",
    "    def __init__(self, b):\n",
    "        self.a = 10\n",
    "        self.b = b\n",
    "    def sum(self):\n",
    "        return self.a + self.b\n",
    "\n",
    "def sumConst(b):\n",
    "    t = Test(b)\n",
    "    return t.sum()\n",
    "\"\"\"\n",
    "\n",
    "exec(src,globals())\n",
    "assert(sumConst(4) == 14)"
   ]
  },
  {
   "cell_type": "code",
   "execution_count": 2,
   "id": "fa65ba47",
   "metadata": {},
   "outputs": [],
   "source": [
    "class Test():\n",
    "    def __init__(self, b):\n",
    "        self.a = 10\n",
    "        self.b = b\n",
    "    def sum(self):\n",
    "        return self.a + self.b\n",
    "\n",
    "def sumConst(b):\n",
    "    t = Test(b)\n",
    "    return t.sum()\n",
    "\n",
    "import cloudpickle\n",
    "f = cloudpickle.loads(cloudpickle.dumps(sumConst))\n",
    "assert(f(4) == 14)"
   ]
  },
  {
   "cell_type": "code",
   "execution_count": null,
   "id": "86ea5fba",
   "metadata": {},
   "outputs": [],
   "source": []
  },
  {
   "cell_type": "code",
   "execution_count": null,
   "id": "5146a5a4",
   "metadata": {},
   "outputs": [],
   "source": []
  }
 ],
 "metadata": {
  "kernelspec": {
   "display_name": "Python [conda env:Volpy] *",
   "language": "python",
   "name": "conda-env-Volpy-py"
  },
  "language_info": {
   "codemirror_mode": {
    "name": "ipython",
    "version": 3
   },
   "file_extension": ".py",
   "mimetype": "text/x-python",
   "name": "python",
   "nbconvert_exporter": "python",
   "pygments_lexer": "ipython3",
   "version": "3.10.4"
  }
 },
 "nbformat": 4,
 "nbformat_minor": 5
}
