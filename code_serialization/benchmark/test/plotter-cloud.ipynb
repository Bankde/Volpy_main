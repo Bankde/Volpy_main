{
 "cells": [
  {
   "cell_type": "code",
   "execution_count": 1,
   "id": "46608bd8",
   "metadata": {},
   "outputs": [],
   "source": [
    "import os, sys\n",
    "import re\n",
    "import datetime\n",
    "import json\n",
    "import pandas as pd\n",
    "import matplotlib.pyplot as plt\n",
    "import numpy as np\n",
    "\n",
    "pd.set_option('display.max_rows', None)\n",
    "pd.set_option('display.max_columns', None)\n",
    "pd.set_option('display.width', None)\n",
    "pd.set_option('display.max_colwidth', None)"
   ]
  },
  {
   "cell_type": "code",
   "execution_count": 2,
   "id": "c848aef8",
   "metadata": {},
   "outputs": [],
   "source": [
    "testname_re = re.compile(\"test_(\\d+)-(\\d+).py\")"
   ]
  },
  {
   "cell_type": "code",
   "execution_count": 3,
   "id": "5699f1a3",
   "metadata": {},
   "outputs": [],
   "source": [
    "testsuiteNameCache = {}\n",
    "def getTestsuiteNameFromFile(file):\n",
    "    global testsuiteNameCache\n",
    "    file = file.replace(\"/home/bankde/\", \"/Users/bankde/Desktop/project/final_project/Volpy_main/\")\n",
    "    s = file.replace(\"-\",\"/\").split(\"/\")\n",
    "    cur_test = s[-3]+\"/\"+s[-2]\n",
    "    with open(file, \"r\") as f:\n",
    "        for line in f:\n",
    "            if line.startswith(\"###### Description ######\"):\n",
    "                testsuite_name = (f.readline()).strip(\"#\\ \\n\")\n",
    "                testsuiteNameCache[cur_test] = testsuite_name\n",
    "                return testsuite_name\n",
    "            \n",
    "def getTestsuiteName(file):\n",
    "    global testsuiteNameCache\n",
    "    file = file.replace(\"/home/bankde/\", \"/Users/bankde/Desktop/project/final_project/Volpy_main/\")\n",
    "    s = cur_file.replace(\"-\",\"/\").split(\"/\")\n",
    "    cur_test = s[-3]+\"/\"+s[-2]\n",
    "    return testsuiteNameCache[cur_test]"
   ]
  },
  {
   "cell_type": "code",
   "execution_count": 4,
   "id": "128140f8",
   "metadata": {},
   "outputs": [],
   "source": [
    "result_file = \"result_gcloud.json\"\n",
    "with open(result_file, \"r\") as f:\n",
    "    raw_results = json.load(f)"
   ]
  },
  {
   "cell_type": "code",
   "execution_count": 5,
   "id": "52a19208",
   "metadata": {},
   "outputs": [],
   "source": [
    "args = type('', (), {})\n",
    "args.data = \"time\""
   ]
  },
  {
   "cell_type": "code",
   "execution_count": 6,
   "id": "4b6094ca",
   "metadata": {},
   "outputs": [],
   "source": [
    "result_dict = {}\n",
    "for cur_pickle in raw_results[\"pickleSuites\"]:\n",
    "    result_dict[cur_pickle] = {}\n",
    "    # First loop to init the dict with testsuite name\n",
    "    for cur_file in raw_results[cur_pickle]:\n",
    "        if cur_file.endswith(\"-1.py\"):\n",
    "            cur_testname = getTestsuiteNameFromFile(cur_file)\n",
    "            if cur_testname in result_dict[cur_pickle]:\n",
    "                raise Exception(\"Impossible flow\") # Only one init file should exist.\n",
    "            result_dict[cur_pickle][cur_testname] = [{} for i in range(2)] # 0/1 for init/test\n",
    "    # Add the result to our result_dict\n",
    "    for cur_file in raw_results[cur_pickle]:\n",
    "        # Get args.data (default: \"result\") from raw_result\n",
    "        results = {k: raw_results[cur_pickle][cur_file][k][args.data] if args.data in raw_results[cur_pickle][cur_file][k] else \"NA\" for k in raw_results[cur_pickle][cur_file]}\n",
    "        if cur_file.endswith(\"-1.py\"):\n",
    "            result_dict[cur_pickle][getTestsuiteName(cur_file)][0] = results\n",
    "        else:\n",
    "            # There may be several test file\n",
    "            result_dict[cur_pickle][getTestsuiteName(cur_file)][1].update(results)"
   ]
  },
  {
   "cell_type": "code",
   "execution_count": 7,
   "id": "fea14658",
   "metadata": {},
   "outputs": [],
   "source": [
    "# Beauty print with pandas\n",
    "all_results = {}\n",
    "for testsuite in result_dict[list(result_dict.keys())[0]]:\n",
    "    df_all_pickles = []\n",
    "    for cur_pickle in result_dict:\n",
    "        df = pd.DataFrame(data=result_dict[cur_pickle][testsuite])\n",
    "        df = df.fillna(' ').T\n",
    "        df = df.rename(columns={0: \"Init(%s)\" % (cur_pickle), 1: \"Test(%s)\" % (cur_pickle)})\n",
    "        df_all_pickles.append(df)\n",
    "    result = pd.concat(df_all_pickles, axis=1)\n",
    "    all_results[testsuite] = result\n",
    "#     print(result)\n",
    "#     result.plot(kind=\"box\")\n",
    "#     summary_fh.write(\"===== Testsuite: %s =====\\n\" % (testsuite))\n",
    "#     summary_fh.write(str(result))\n",
    "#     summary_fh.write(\"\\n\")"
   ]
  },
  {
   "cell_type": "code",
   "execution_count": 8,
   "id": "1f118cd3",
   "metadata": {},
   "outputs": [],
   "source": [
    "# For exec\n",
    "exec_testsuiteNameCache = {}\n",
    "def exec_getTestsuiteNameFromFile(file):\n",
    "    global exec_testsuiteNameCache\n",
    "    file = file.replace(\"/home/bankde/\", \"/Users/bankde/Desktop/project/final_project/Volpy_main/\")\n",
    "    with open(file, \"r\") as f:\n",
    "        for line in f:\n",
    "            if line.startswith(\"###### Description ######\"):\n",
    "                testsuite_name = (f.readline()).strip(\"#\\ \\n\")\n",
    "                exec_testsuiteNameCache[file] = testsuite_name\n",
    "                return testsuite_name\n",
    "            \n",
    "def exec_getTestsuiteName(file):\n",
    "    global exec_testsuiteNameCache\n",
    "    file = file.replace(\"/home/bankde/\", \"/Users/bankde/Desktop/project/final_project/Volpy_main/\")\n",
    "    return exec_testsuiteNameCache[file]"
   ]
  },
  {
   "cell_type": "code",
   "execution_count": 9,
   "id": "2511bc8b",
   "metadata": {},
   "outputs": [],
   "source": [
    "# Load from exec results\n",
    "exec_result_file = \"../exec/result_gcloud.json\"\n",
    "with open(exec_result_file, \"r\") as f:\n",
    "    exec_raw_results = json.load(f)\n",
    "cur_pickle = \"exec\"\n",
    "exec_result_dict = {}\n",
    "exec_result_dict[cur_pickle] = {}\n",
    "# First loop to init the dict with testsuite name\n",
    "for cur_file in exec_raw_results[cur_pickle]:\n",
    "    cur_testname = exec_getTestsuiteNameFromFile(cur_file)\n",
    "    exec_result_dict[cur_pickle][cur_testname] = [{} for i in range(2)] # 0/1 for init/test\n",
    "# Add the result to our result_dict\n",
    "for cur_file in exec_raw_results[cur_pickle]:\n",
    "    # Get args.data (default: \"result\") from raw_result\n",
    "    results = {k: exec_raw_results[cur_pickle][cur_file][k][args.data] if args.data in exec_raw_results[cur_pickle][cur_file][k] else \"NA\" for k in exec_raw_results[cur_pickle][cur_file]}\n",
    "    # For exec, there should be only Test, no init.\n",
    "    exec_result_dict[cur_pickle][exec_getTestsuiteName(cur_file)][1] = results\n",
    "    \n",
    "exec_all_results = {}\n",
    "for testsuite in exec_result_dict[list(exec_result_dict.keys())[0]]:\n",
    "    df_all_pickles = []\n",
    "    for cur_pickle in exec_result_dict:\n",
    "        df = pd.DataFrame(data=exec_result_dict[cur_pickle][testsuite])\n",
    "        df = df.fillna(' ').T\n",
    "        df = df.rename(columns={0: \"Init(%s)\" % (cur_pickle), 1: \"Test(%s)\" % (cur_pickle)})\n",
    "        df_all_pickles.append(df)\n",
    "    result = pd.concat(df_all_pickles, axis=1)\n",
    "    exec_all_results[testsuite] = result"
   ]
  },
  {
   "cell_type": "code",
   "execution_count": 13,
   "id": "8c9ad3ef",
   "metadata": {},
   "outputs": [
    {
     "name": "stderr",
     "output_type": "stream",
     "text": [
      "/var/folders/pv/5ntnhsd934q99bbj_55cvf8w0000gn/T/ipykernel_58913/734807423.py:16: UserWarning: Matplotlib is currently using module://matplotlib_inline.backend_inline, which is a non-GUI backend, so cannot show the figure.\n",
      "  fig.show()\n"
     ]
    },
    {
     "data": {
      "image/png": "[encoded data removed]",
      "text/plain": [
       "<Figure size 288x216 with 1 Axes>"
      ]
     },
     "metadata": {
      "needs_background": "light"
     },
     "output_type": "display_data"
    }
   ],
   "source": [
    "data = []\n",
    "data.append(all_results[\"Functions\"][\"Init(codepickle)\"][\"test_func_simple\"])\n",
    "data.append(all_results[\"Functions\"][\"Init(cloudpickle)\"][\"test_func_simple\"])\n",
    "data.append(all_results[\"Functions\"][\"Test(codepickle)\"][\"test_func_simple\"])\n",
    "data.append(all_results[\"Functions\"][\"Test(cloudpickle)\"][\"test_func_simple\"])\n",
    "data.append(exec_all_results[\"Functions\"][\"Test(exec)\"][\"test_func_simple\"])\n",
    "\n",
    "fig = plt.figure(figsize =(4, 3))\n",
    "# Creating axes instance\n",
    "ax = fig.add_axes([0, 0, 1, 1])\n",
    "bp = ax.boxplot(data)\n",
    "ax.set_title('Time taken for 1000 pickle process')\n",
    "xtick = [\"codepickle(dump)\", \"cloudpickle(dump)\", \"codepickle(load)\", \"cloudpickle(load)\", \"pyodide_exec(load)\"]\n",
    "ax.set_xticks(range(1,1+len(xtick)), xtick, rotation=20)\n",
    "ax.set_ylabel('time (s)')\n",
    "fig.show()"
   ]
  },
  {
   "cell_type": "code",
   "execution_count": 14,
   "id": "b0d99968",
   "metadata": {},
   "outputs": [
    {
     "name": "stderr",
     "output_type": "stream",
     "text": [
      "/var/folders/pv/5ntnhsd934q99bbj_55cvf8w0000gn/T/ipykernel_58913/2700514603.py:16: UserWarning: Matplotlib is currently using module://matplotlib_inline.backend_inline, which is a non-GUI backend, so cannot show the figure.\n",
      "  fig.show()\n"
     ]
    },
    {
     "data": {
      "image/png": "[encoded data removed]",
      "text/plain": [
       "<Figure size 288x216 with 1 Axes>"
      ]
     },
     "metadata": {
      "needs_background": "light"
     },
     "output_type": "display_data"
    }
   ],
   "source": [
    "data = []\n",
    "data.append(all_results[\"Distributed_sort\"][\"Init(codepickle)\"][\"test_distributed_sort\"])\n",
    "data.append(all_results[\"Distributed_sort\"][\"Init(cloudpickle)\"][\"test_distributed_sort\"])\n",
    "data.append(all_results[\"Distributed_sort\"][\"Test(codepickle)\"][\"test_distributed_sort\"])\n",
    "data.append(all_results[\"Distributed_sort\"][\"Test(cloudpickle)\"][\"test_distributed_sort\"])\n",
    "data.append(exec_all_results[\"Distributed_sort\"][\"Test(exec)\"][\"test_distributed_sort\"])\n",
    "\n",
    "fig = plt.figure(figsize =(4, 3))\n",
    "# Creating axes instance\n",
    "ax = fig.add_axes([0, 0, 1, 1])\n",
    "bp = ax.boxplot(data)\n",
    "ax.set_title('Time taken for 1000 pickle process')\n",
    "xtick = [\"codepickle(dump)\", \"cloudpickle(dump)\", \"codepickle(load)\", \"cloudpickle(load)\", \"pyodide_exec(load)\"]\n",
    "ax.set_xticks(range(1,1+len(xtick)), xtick, rotation=20)\n",
    "ax.set_ylabel('time (s)')\n",
    "fig.show()"
   ]
  },
  {
   "cell_type": "code",
   "execution_count": null,
   "id": "aeac7e18",
   "metadata": {},
   "outputs": [],
   "source": []
  },
  {
   "cell_type": "code",
   "execution_count": null,
   "id": "c2eb908a",
   "metadata": {},
   "outputs": [],
   "source": []
  }
 ],
 "metadata": {
  "kernelspec": {
   "display_name": "Python [conda env:Volpy] *",
   "language": "python",
   "name": "conda-env-Volpy-py"
  },
  "language_info": {
   "codemirror_mode": {
    "name": "ipython",
    "version": 3
   },
   "file_extension": ".py",
   "mimetype": "text/x-python",
   "name": "python",
   "nbconvert_exporter": "python",
   "pygments_lexer": "ipython3",
   "version": "3.10.4"
  }
 },
 "nbformat": 4,
 "nbformat_minor": 5
}
