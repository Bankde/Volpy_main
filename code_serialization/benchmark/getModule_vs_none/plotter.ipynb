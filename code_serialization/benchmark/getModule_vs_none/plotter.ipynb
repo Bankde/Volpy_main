{
 "cells": [
  {
   "cell_type": "code",
   "execution_count": 1,
   "id": "e58dc239",
   "metadata": {},
   "outputs": [],
   "source": [
    "import os, sys\n",
    "import re\n",
    "import datetime\n",
    "import json\n",
    "import pandas as pd\n",
    "import matplotlib.pyplot as plt\n",
    "import numpy as np\n",
    "\n",
    "pd.set_option('display.max_rows', None)\n",
    "pd.set_option('display.max_columns', None)\n",
    "pd.set_option('display.width', None)\n",
    "pd.set_option('display.max_colwidth', None)"
   ]
  },
  {
   "cell_type": "code",
   "execution_count": 4,
   "id": "3380b5b5",
   "metadata": {},
   "outputs": [],
   "source": [
    "data_file = \"result_gcloud.json\"\n",
    "with open(data_file, \"r\") as f:\n",
    "    all_results = json.load(f)"
   ]
  },
  {
   "cell_type": "code",
   "execution_count": 3,
   "id": "1826f914",
   "metadata": {},
   "outputs": [],
   "source": [
    "# We only have \"dump\" data because the \"load\" data should theoritically the same for both with/without module"
   ]
  },
  {
   "cell_type": "code",
   "execution_count": 15,
   "id": "76ac36ae",
   "metadata": {},
   "outputs": [
    {
     "name": "stdout",
     "output_type": "stream",
     "text": [
      "Suite: test_alias\n",
      "  wmodule: 0.245\n",
      "  womodule: 0.244\n",
      "  wmodule: 1013\n",
      "  womodule: 1003\n",
      "Suite: test_simple\n",
      "  wmodule: 0.245\n",
      "  womodule: 0.244\n",
      "  wmodule: 1005\n",
      "  womodule: 995\n",
      "Suite: test_sub_alias\n",
      "  wmodule: 0.547\n",
      "  womodule: 0.535\n",
      "  wmodule: 1082\n",
      "  womodule: 1072\n",
      "Suite: test_sub_duplicate\n",
      "  wmodule: 1.148\n",
      "  womodule: 1.135\n",
      "  wmodule: 1147\n",
      "  womodule: 1137\n",
      "Suite: test_sub_simple\n",
      "  wmodule: 1.198\n",
      "  womodule: 1.2\n",
      "  wmodule: 1112\n",
      "  womodule: 1102\n",
      "Suite: test_unused\n",
      "  wmodule: 1.138\n",
      "  womodule: 1.137\n",
      "  wmodule: 1014\n",
      "  womodule: 1004\n"
     ]
    }
   ],
   "source": [
    "for testsuite in all_results[\"with_module\"]:\n",
    "    print(f'Suite: {testsuite}')\n",
    "    print(f'  wmodule: {round(np.mean(all_results[\"with_module\"][testsuite][\"speed\"]),3)}')\n",
    "    print(f'  womodule: {round(np.mean(all_results[\"without_module\"][testsuite][\"speed\"]),3)}')\n",
    "    print(f'  wmodule: {all_results[\"with_module\"][testsuite][\"size\"]}')\n",
    "    print(f'  womodule: {all_results[\"without_module\"][testsuite][\"size\"]}')"
   ]
  },
  {
   "cell_type": "code",
   "execution_count": null,
   "id": "e196fbc5",
   "metadata": {},
   "outputs": [],
   "source": []
  }
 ],
 "metadata": {
  "kernelspec": {
   "display_name": "Python [conda env:Volpy] *",
   "language": "python",
   "name": "conda-env-Volpy-py"
  },
  "language_info": {
   "codemirror_mode": {
    "name": "ipython",
    "version": 3
   },
   "file_extension": ".py",
   "mimetype": "text/x-python",
   "name": "python",
   "nbconvert_exporter": "python",
   "pygments_lexer": "ipython3",
   "version": "3.10.4"
  }
 },
 "nbformat": 4,
 "nbformat_minor": 5
}
