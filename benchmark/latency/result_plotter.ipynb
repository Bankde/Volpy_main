{
 "cells": [
  {
   "cell_type": "code",
   "execution_count": 1,
   "id": "d53c8e6f",
   "metadata": {},
   "outputs": [],
   "source": [
    "import yaml\n",
    "import pandas as pd\n",
    "import matplotlib\n",
    "import matplotlib.pyplot as plt\n",
    "import numpy as np\n",
    "from collections import defaultdict\n",
    "\n",
    "# plt.style.use(['science','ieee'])"
   ]
  },
  {
   "cell_type": "code",
   "execution_count": 2,
   "id": "bef2dfaa",
   "metadata": {},
   "outputs": [],
   "source": [
    "with open(\"result.yaml\", \"r\") as stream:\n",
    "    try:\n",
    "        data = yaml.safe_load(stream)\n",
    "    except yaml.YAMLError as exc:\n",
    "        print(exc)"
   ]
  },
  {
   "cell_type": "code",
   "execution_count": 3,
   "id": "96328b78",
   "metadata": {},
   "outputs": [
    {
     "data": {
      "text/plain": [
       "{'env': {'system': ['5.10.0-16-cloud-amd64 \\\\#1 SMP Debian 5.10.127-1 (2022-06-30) x86_64 GNU/Linux',\n",
       "   'debian-11-bullseye-v20220719',\n",
       "   'e2-small google cloud'],\n",
       "  'setup': [{'IP': '34.124.233.195, 34.126.134.69, 35.198.220.142'},\n",
       "   {'signal_server': '34.126.134.69'},\n",
       "   {'turn_server': '34.126.134.69'},\n",
       "   {'Normal_ping': [{'OneTwo': 'rtt min/avg/max/mdev = 0.524/0.593/0.688/0.049 ms'},\n",
       "     {'OneThree': 'rtt min/avg/max/mdev = 0.633/0.742/1.100/0.143 ms'},\n",
       "     {'TwoThree': 'rtt min/avg/max/mdev = 0.622/0.757/0.885/0.081 ms'}]},\n",
       "   {'Latency control': '(Not src/dst symmetric latency but still very neat way to simulate RTT latency between 2 peers)\\ntc qdisc add dev ens4 root handle 1: prio priomap 2 2 2 2 2 2 2 2 2 2 2 2 2 2 2 2\\ntc qdisc add dev ens4 parent 1:1 handle 10: netem delay 4ms\\ntc filter add dev ens4 protocol ip parent 1:0 prio 1 u32 match ip dst 35.198.220.142/32 flowid 1:1\\n'}],\n",
       "  'latency_setup': [{'4ms': 'rtt min/avg/max/mdev = 4.719/4.894/5.597/0.282 ms'},\n",
       "   {'8ms': 'rtt min/avg/max/mdev = 8.713/8.791/9.021/0.095 ms'},\n",
       "   {'12ms': 'rtt min/avg/max/mdev = 12.684/12.801/12.949/0.074 ms'},\n",
       "   {'16ms': 'rtt min/avg/max/mdev = 16.647/16.837/16.984/0.093 ms'}]},\n",
       " 'WebRTC': {'NoTURN,P2P_delay': {'0ms': '3, 3, 2, 2, 2, 3, 3, 3, 3, 3',\n",
       "   '4ms': '7, 8, 7, 7, 8, 7, 7, 7, 7, 7',\n",
       "   '8ms': '10, 11, 11, 11, 11, 10, 11, 11, 11, 11',\n",
       "   '12ms': '15, 15, 15, 16, 15, 15, 17, 15, 16, 15',\n",
       "   '16ms': '19, 18, 19, 19, 19, 19, 19, 19, 18, 19'},\n",
       "  'NoTURN,signal_delay': {'0ms': '2, 3, 3, 3, 3, 3, 3, 3, 3, 2',\n",
       "   '4ms': '3, 3, 3, 3, 3, 3, 3, 2, 3, 3',\n",
       "   '8ms': '3, 3, 3, 3, 3, 3, 3, 2, 3, 3',\n",
       "   '12ms': '3, 3, 3, 3, 3, 3, 2, 3, 3, 3',\n",
       "   '16ms': '3, 3, 3, 3, 2, 3, 3, 3, 3, 3'},\n",
       "  'TURN,client_delay': 'NA',\n",
       "  'TURN,TURN_delay': {'0ms': '4, 4, 4, 3, 3, 3, 4, 3, 4, 3',\n",
       "   '4ms': '12, 11, 12, 12, 11, 12, 11, 12, 11, 12',\n",
       "   '8ms': '20, 19, 20, 20, 20, 20, 20, 20, 20, 20',\n",
       "   '12ms': '28, 27, 28, 28, 27, 28, 28, 28, 28, 27',\n",
       "   '16ms': '36, 37, 37, 37, 37, 36, 37, 36, 37, 37'}},\n",
       " 'WebSocket': {'server_delay': {'0ms': '5, 5, 4, 5, 5, 6, 6, 5, 4, 4',\n",
       "   '4ms': '12, 12, 12, 12, 12, 12, 12, 12, 12, 12',\n",
       "   '8ms': '21, 20, 20, 20, 20, 20, 20, 20, 21, 22',\n",
       "   '12ms': '29, 28, 28, 29, 29, 29, 28, 29, 29, 29',\n",
       "   '16ms': '37, 37, 37, 37, 37, 36, 37, 37, 37, 37'}}}"
      ]
     },
     "execution_count": 3,
     "metadata": {},
     "output_type": "execute_result"
    }
   ],
   "source": [
    "data"
   ]
  },
  {
   "cell_type": "code",
   "execution_count": 4,
   "id": "711444d1",
   "metadata": {},
   "outputs": [
    {
     "name": "stdout",
     "output_type": "stream",
     "text": [
      "defaultdict(<class 'dict'>, {'WebRTC_NoTURN,P2P_delay': {'0ms': 3, '4ms': 7, '8ms': 11, '12ms': 15, '16ms': 19}, 'WebRTC_NoTURN,signal_delay': {'0ms': 3, '4ms': 3, '8ms': 3, '12ms': 3, '16ms': 3}, 'WebRTC_TURN,TURN_delay': {'0ms': 4, '4ms': 12, '8ms': 20, '12ms': 28, '16ms': 37}, 'WebSocket_server_delay': {'0ms': 5, '4ms': 12, '8ms': 20, '12ms': 29, '16ms': 37}})\n",
      "      WebRTC_NoTURN,P2P_delay  WebRTC_NoTURN,signal_delay  \\\n",
      "0ms                         3                           3   \n",
      "4ms                         7                           3   \n",
      "8ms                        11                           3   \n",
      "12ms                       15                           3   \n",
      "16ms                       19                           3   \n",
      "\n",
      "      WebRTC_TURN,TURN_delay  WebSocket_server_delay  \n",
      "0ms                        4                       5  \n",
      "4ms                       12                      12  \n",
      "8ms                       20                      20  \n",
      "12ms                      28                      29  \n",
      "16ms                      37                      37  \n"
     ]
    }
   ],
   "source": [
    "norm_data = defaultdict(dict)\n",
    "for test in data[\"WebRTC\"]:\n",
    "    if test == \"TURN,client_delay\": continue\n",
    "    for latency in data[\"WebRTC\"][test]:\n",
    "        times = data[\"WebRTC\"][test][latency]\n",
    "        avg_time = np.mean([float(t) for t in times.split(\",\")])\n",
    "        norm_data[\"WebRTC_\"+test][latency] = round(avg_time)\n",
    "for latency in data[\"WebSocket\"][\"server_delay\"]:\n",
    "    times = data[\"WebSocket\"][\"server_delay\"][latency]\n",
    "    avg_time = np.mean([float(t) for t in times.split(\",\")])\n",
    "    norm_data[\"WebSocket_server_delay\"][latency] = round(avg_time)    \n",
    "print(norm_data)\n",
    "df = pd.DataFrame.from_dict(norm_data, orient='index', columns=['0ms', '4ms', '8ms', '12ms', '16ms'])\n",
    "df = df.transpose()\n",
    "print(df)"
   ]
  },
  {
   "cell_type": "code",
   "execution_count": 5,
   "id": "6ea2da71",
   "metadata": {},
   "outputs": [
    {
     "data": {
      "text/plain": [
       "Text(0.5, 0, 'simulated latency')"
      ]
     },
     "execution_count": 5,
     "metadata": {},
     "output_type": "execute_result"
    },
    {
     "data": {
      "image/png": "[encoded data removed]",
      "text/plain": [
       "<Figure size 432x288 with 1 Axes>"
      ]
     },
     "metadata": {
      "needs_background": "light"
     },
     "output_type": "display_data"
    }
   ],
   "source": [
    "ax = df.plot(use_index=True, ylabel=\"time (ms)\")\n",
    "ax.set_xlabel(\"simulated latency\")"
   ]
  },
  {
   "cell_type": "code",
   "execution_count": null,
   "id": "eee4cc7f",
   "metadata": {},
   "outputs": [],
   "source": []
  }
 ],
 "metadata": {
  "kernelspec": {
   "display_name": "ml",
   "language": "python",
   "name": "ml"
  },
  "language_info": {
   "codemirror_mode": {
    "name": "ipython",
    "version": 3
   },
   "file_extension": ".py",
   "mimetype": "text/x-python",
   "name": "python",
   "nbconvert_exporter": "python",
   "pygments_lexer": "ipython3",
   "version": "3.7.7"
  }
 },
 "nbformat": 4,
 "nbformat_minor": 5
}
