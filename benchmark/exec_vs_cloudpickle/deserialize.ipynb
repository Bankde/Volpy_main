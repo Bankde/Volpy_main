{
 "cells": [
  {
   "cell_type": "code",
   "execution_count": 1,
   "metadata": {},
   "outputs": [],
   "source": [
    "import cloudpickle as pickle\n",
    "import inspect\n",
    "import timeit\n",
    "\n",
    "def mydump(obj):\n",
    "    with open('msg', 'wb') as f:\n",
    "        msg = pickle.dumps(obj)\n",
    "        print(\"Bytes: %d\" % (len(msg)))\n",
    "        f.write(msg)\n",
    "        \n",
    "def myload():\n",
    "    with open('msg', 'rb') as f:\n",
    "        return pickle.load(f)\n",
    "    \n",
    "def time(run, setup=\"\"\"\"\"\"):\n",
    "    # Take 1000 input then average, then repeat 5 times and take minimum\n",
    "    return min(timeit.Timer(run, setup=setup, globals=globals()).repeat(3,1000))"
   ]
  },
  {
   "cell_type": "code",
   "execution_count": 2,
   "metadata": {},
   "outputs": [
    {
     "name": "stdout",
     "output_type": "stream",
     "text": [
      "0.056167352000001\n"
     ]
    }
   ],
   "source": [
    "# simpleFunc\n",
    "print(time(\"\"\"exec(myload(), globals())\"\"\"))"
   ]
  },
  {
   "cell_type": "code",
   "execution_count": 2,
   "metadata": {},
   "outputs": [
    {
     "name": "stdout",
     "output_type": "stream",
     "text": [
      "0.04459786700004997\n"
     ]
    }
   ],
   "source": [
    "print(time(\"\"\"f = myload()\"\"\"))"
   ]
  },
  {
   "cell_type": "code",
   "execution_count": 4,
   "metadata": {},
   "outputs": [
    {
     "name": "stdout",
     "output_type": "stream",
     "text": [
      "0.08742129400000032\n"
     ]
    }
   ],
   "source": [
    "# findPi\n",
    "print(time(\"\"\"exec(myload(), globals())\"\"\"))"
   ]
  },
  {
   "cell_type": "code",
   "execution_count": 5,
   "metadata": {},
   "outputs": [
    {
     "name": "stdout",
     "output_type": "stream",
     "text": [
      "0.04726425300000159\n"
     ]
    }
   ],
   "source": [
    "print(time(\"\"\"f = myload()\"\"\"))"
   ]
  },
  {
   "cell_type": "code",
   "execution_count": 6,
   "metadata": {},
   "outputs": [
    {
     "name": "stdout",
     "output_type": "stream",
     "text": [
      "0.06666201399997362\n"
     ]
    }
   ],
   "source": [
    "# recursiveFunc\n",
    "print(time(\"\"\"exec(myload(), globals())\"\"\"))"
   ]
  },
  {
   "cell_type": "code",
   "execution_count": 7,
   "metadata": {},
   "outputs": [
    {
     "name": "stdout",
     "output_type": "stream",
     "text": [
      "0.04727064100001144\n"
     ]
    }
   ],
   "source": [
    "print(time(\"\"\"f = myload()\"\"\"))"
   ]
  },
  {
   "cell_type": "code",
   "execution_count": null,
   "metadata": {},
   "outputs": [],
   "source": [
    "# Computing Class\n",
    "print(time(\"\"\"exec(myload(), globals())\"\"\"))"
   ]
  },
  {
   "cell_type": "code",
   "execution_count": null,
   "metadata": {},
   "outputs": [],
   "source": [
    "print(time(\"\"\"f = myload()\"\"\"))"
   ]
  },
  {
   "cell_type": "code",
   "execution_count": 10,
   "metadata": {},
   "outputs": [],
   "source": [
    "f = myload()"
   ]
  },
  {
   "cell_type": "code",
   "execution_count": 13,
   "metadata": {},
   "outputs": [
    {
     "data": {
      "text/plain": [
       "15"
      ]
     },
     "execution_count": 13,
     "metadata": {},
     "output_type": "execute_result"
    }
   ],
   "source": [
    "f(10)"
   ]
  },
  {
   "cell_type": "code",
   "execution_count": 12,
   "metadata": {},
   "outputs": [],
   "source": [
    "tmp_a = 20"
   ]
  },
  {
   "cell_type": "code",
   "execution_count": null,
   "metadata": {},
   "outputs": [],
   "source": []
  }
 ],
 "metadata": {
  "kernelspec": {
   "display_name": "ml",
   "language": "python",
   "name": "ml"
  },
  "language_info": {
   "codemirror_mode": {
    "name": "ipython",
    "version": 3
   },
   "file_extension": ".py",
   "mimetype": "text/x-python",
   "name": "python",
   "nbconvert_exporter": "python",
   "pygments_lexer": "ipython3",
   "version": "3.7.7"
  }
 },
 "nbformat": 4,
 "nbformat_minor": 4
}
