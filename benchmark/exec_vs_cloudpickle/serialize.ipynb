{
 "cells": [
  {
   "cell_type": "code",
   "execution_count": 22,
   "metadata": {},
   "outputs": [],
   "source": [
    "import cloudpickle as pickle\n",
    "import inspect\n",
    "import timeit\n",
    "\n",
    "def mydump(obj):\n",
    "    with open('msg', 'wb') as f:\n",
    "        msg = pickle.dumps(obj)\n",
    "        print(\"Bytes: %d\" % (len(msg)))\n",
    "        f.write(msg)\n",
    "        \n",
    "def myload():\n",
    "    with open('msg', 'rb') as f:\n",
    "        return pickle.load(f)"
   ]
  },
  {
   "cell_type": "code",
   "execution_count": 15,
   "metadata": {},
   "outputs": [
    {
     "name": "stdout",
     "output_type": "stream",
     "text": [
      "Bytes: 64\n"
     ]
    }
   ],
   "source": [
    "def simpleFunc(b):\n",
    "    a = 123456\n",
    "    return a*b\n",
    "\n",
    "mydump(inspect.getsource(simpleFunc))"
   ]
  },
  {
   "cell_type": "code",
   "execution_count": 16,
   "metadata": {},
   "outputs": [
    {
     "name": "stdout",
     "output_type": "stream",
     "text": [
      "Bytes: 473\n"
     ]
    }
   ],
   "source": [
    "mydump(simpleFunc)"
   ]
  },
  {
   "cell_type": "code",
   "execution_count": 17,
   "metadata": {},
   "outputs": [
    {
     "name": "stdout",
     "output_type": "stream",
     "text": [
      "Bytes: 365\n"
     ]
    }
   ],
   "source": [
    "def findPi():\n",
    "    # Initialize denominator\n",
    "    k = 1\n",
    "    \n",
    "    # Initialize sum\n",
    "    s = 0\n",
    "\n",
    "    for i in range(100000):\n",
    "\n",
    "        # even index elements are positive\n",
    "        if i % 2 == 0:\n",
    "            s += 4/k\n",
    "        else:\n",
    "\n",
    "            # odd index elements are negative\n",
    "            s -= 4/k\n",
    "\n",
    "        # denominator is odd\n",
    "        k += 2\n",
    "\n",
    "    return s\n",
    "\n",
    "mydump(inspect.getsource(findPi))"
   ]
  },
  {
   "cell_type": "code",
   "execution_count": 5,
   "metadata": {},
   "outputs": [
    {
     "name": "stdout",
     "output_type": "stream",
     "text": [
      "Bytes: 566\n"
     ]
    }
   ],
   "source": [
    "mydump(findPi)"
   ]
  },
  {
   "cell_type": "code",
   "execution_count": 19,
   "metadata": {},
   "outputs": [
    {
     "data": {
      "text/plain": [
       "3.1415826535897198"
      ]
     },
     "execution_count": 19,
     "metadata": {},
     "output_type": "execute_result"
    }
   ],
   "source": [
    "findPi()"
   ]
  },
  {
   "cell_type": "code",
   "execution_count": 42,
   "metadata": {},
   "outputs": [
    {
     "name": "stdout",
     "output_type": "stream",
     "text": [
      "Bytes: 116\n"
     ]
    }
   ],
   "source": [
    "def recursiveFunc(a):\n",
    "    if a <= 1: return 1\n",
    "    return a + recursiveFunc(a-1) * recursiveFunc(a-2)\n",
    "\n",
    "mydump(inspect.getsource(recursiveFunc))"
   ]
  },
  {
   "cell_type": "code",
   "execution_count": 43,
   "metadata": {},
   "outputs": [
    {
     "name": "stdout",
     "output_type": "stream",
     "text": [
      "Bytes: 509\n"
     ]
    }
   ],
   "source": [
    "mydump(recursiveFunc)"
   ]
  },
  {
   "cell_type": "code",
   "execution_count": 44,
   "metadata": {},
   "outputs": [
    {
     "data": {
      "text/plain": [
       "413747"
      ]
     },
     "execution_count": 44,
     "metadata": {},
     "output_type": "execute_result"
    }
   ],
   "source": [
    "recursiveFunc(7)"
   ]
  },
  {
   "cell_type": "code",
   "execution_count": 39,
   "metadata": {},
   "outputs": [],
   "source": [
    "class Computing():\n",
    "    def __init__(self, a, b):\n",
    "        self.a = a\n",
    "        self.b = b\n",
    "        \n",
    "    def _computeA(self):\n",
    "        s = 0\n",
    "        for i in range(self.a):\n",
    "            s += i\n",
    "        return s\n",
    "            \n",
    "    def _computeB(self):\n",
    "        s = 1\n",
    "        for i in range(1,self.b):\n",
    "            s *= i\n",
    "        return s\n",
    "        \n",
    "    def compute(self):\n",
    "        return self._computeA() + self._computeB()\n",
    "    \n",
    "# mydump(inspect.getsource(Computing))"
   ]
  },
  {
   "cell_type": "code",
   "execution_count": 40,
   "metadata": {},
   "outputs": [
    {
     "name": "stdout",
     "output_type": "stream",
     "text": [
      "Bytes: 1235\n"
     ]
    }
   ],
   "source": [
    "mydump(Computing)"
   ]
  },
  {
   "cell_type": "code",
   "execution_count": 41,
   "metadata": {},
   "outputs": [
    {
     "name": "stdout",
     "output_type": "stream",
     "text": [
      "6\n",
      "24\n"
     ]
    },
    {
     "data": {
      "text/plain": [
       "30"
      ]
     },
     "execution_count": 41,
     "metadata": {},
     "output_type": "execute_result"
    }
   ],
   "source": [
    "a = Computing(4,5)\n",
    "a.compute()"
   ]
  },
  {
   "cell_type": "code",
   "execution_count": 9,
   "metadata": {},
   "outputs": [],
   "source": [
    "f = lambda a : a + 10"
   ]
  },
  {
   "cell_type": "code",
   "execution_count": 13,
   "metadata": {},
   "outputs": [
    {
     "data": {
      "text/plain": [
       "864192"
      ]
     },
     "execution_count": 13,
     "metadata": {},
     "output_type": "execute_result"
    }
   ],
   "source": [
    "123456*7"
   ]
  },
  {
   "cell_type": "code",
   "execution_count": 12,
   "metadata": {},
   "outputs": [
    {
     "data": {
      "text/plain": [
       "'f = lambda a : a + 10\\n'"
      ]
     },
     "execution_count": 12,
     "metadata": {},
     "output_type": "execute_result"
    }
   ],
   "source": [
    "inspect.getsource(f)"
   ]
  },
  {
   "cell_type": "code",
   "execution_count": 8,
   "metadata": {},
   "outputs": [
    {
     "data": {
      "text/plain": [
       "30"
      ]
     },
     "execution_count": 8,
     "metadata": {},
     "output_type": "execute_result"
    }
   ],
   "source": [
    "globalVar(10)"
   ]
  },
  {
   "cell_type": "code",
   "execution_count": 6,
   "metadata": {},
   "outputs": [
    {
     "name": "stdout",
     "output_type": "stream",
     "text": [
      "    0: \\x80 PROTO      4\n",
      "    2: \\x95 FRAME      459\n",
      "   11: \\x8c SHORT_BINUNICODE 'cloudpickle.cloudpickle'\n",
      "   36: \\x94 MEMOIZE    (as 0)\n",
      "   37: \\x8c SHORT_BINUNICODE '_builtin_type'\n",
      "   52: \\x94 MEMOIZE    (as 1)\n",
      "   53: \\x93 STACK_GLOBAL\n",
      "   54: \\x94 MEMOIZE    (as 2)\n",
      "   55: \\x8c SHORT_BINUNICODE 'LambdaType'\n",
      "   67: \\x94 MEMOIZE    (as 3)\n",
      "   68: \\x85 TUPLE1\n",
      "   69: \\x94 MEMOIZE    (as 4)\n",
      "   70: R    REDUCE\n",
      "   71: \\x94 MEMOIZE    (as 5)\n",
      "   72: (    MARK\n",
      "   73: h        BINGET     2\n",
      "   75: \\x8c     SHORT_BINUNICODE 'CodeType'\n",
      "   85: \\x94     MEMOIZE    (as 6)\n",
      "   86: \\x85     TUPLE1\n",
      "   87: \\x94     MEMOIZE    (as 7)\n",
      "   88: R        REDUCE\n",
      "   89: \\x94     MEMOIZE    (as 8)\n",
      "   90: (        MARK\n",
      "   91: K            BININT1    1\n",
      "   93: K            BININT1    0\n",
      "   95: K            BININT1    1\n",
      "   97: K            BININT1    2\n",
      "   99: K            BININT1    67\n",
      "  101: C            SHORT_BINBYTES b't\\x00|\\x00\\x17\\x00S\\x00'\n",
      "  111: \\x94         MEMOIZE    (as 9)\n",
      "  112: N            NONE\n",
      "  113: \\x85         TUPLE1\n",
      "  114: \\x94         MEMOIZE    (as 10)\n",
      "  115: \\x8c         SHORT_BINUNICODE 'tmp_a'\n",
      "  122: \\x94         MEMOIZE    (as 11)\n",
      "  123: \\x85         TUPLE1\n",
      "  124: \\x94         MEMOIZE    (as 12)\n",
      "  125: \\x8c         SHORT_BINUNICODE 'b'\n",
      "  128: \\x94         MEMOIZE    (as 13)\n",
      "  129: \\x85         TUPLE1\n",
      "  130: \\x94         MEMOIZE    (as 14)\n",
      "  131: \\x8c         SHORT_BINUNICODE '<ipython-input-2-de9ce96a1bd7>'\n",
      "  163: \\x94         MEMOIZE    (as 15)\n",
      "  164: \\x8c         SHORT_BINUNICODE 'globalVar'\n",
      "  175: \\x94         MEMOIZE    (as 16)\n",
      "  176: K            BININT1    2\n",
      "  178: C            SHORT_BINBYTES b'\\x00\\x02'\n",
      "  182: \\x94         MEMOIZE    (as 17)\n",
      "  183: )            EMPTY_TUPLE\n",
      "  184: )            EMPTY_TUPLE\n",
      "  185: t            TUPLE      (MARK at 90)\n",
      "  186: \\x94     MEMOIZE    (as 18)\n",
      "  187: R        REDUCE\n",
      "  188: \\x94     MEMOIZE    (as 19)\n",
      "  189: }        EMPTY_DICT\n",
      "  190: \\x94     MEMOIZE    (as 20)\n",
      "  191: (        MARK\n",
      "  192: \\x8c         SHORT_BINUNICODE '__package__'\n",
      "  205: \\x94         MEMOIZE    (as 21)\n",
      "  206: N            NONE\n",
      "  207: \\x8c         SHORT_BINUNICODE '__name__'\n",
      "  217: \\x94         MEMOIZE    (as 22)\n",
      "  218: \\x8c         SHORT_BINUNICODE '__main__'\n",
      "  228: \\x94         MEMOIZE    (as 23)\n",
      "  229: u            SETITEMS   (MARK at 191)\n",
      "  230: N        NONE\n",
      "  231: N        NONE\n",
      "  232: N        NONE\n",
      "  233: t        TUPLE      (MARK at 72)\n",
      "  234: \\x94 MEMOIZE    (as 24)\n",
      "  235: R    REDUCE\n",
      "  236: \\x94 MEMOIZE    (as 25)\n",
      "  237: \\x8c SHORT_BINUNICODE 'cloudpickle.cloudpickle_fast'\n",
      "  267: \\x94 MEMOIZE    (as 26)\n",
      "  268: \\x8c SHORT_BINUNICODE '_function_setstate'\n",
      "  288: \\x94 MEMOIZE    (as 27)\n",
      "  289: \\x93 STACK_GLOBAL\n",
      "  290: \\x94 MEMOIZE    (as 28)\n",
      "  291: h    BINGET     25\n",
      "  293: }    EMPTY_DICT\n",
      "  294: \\x94 MEMOIZE    (as 29)\n",
      "  295: }    EMPTY_DICT\n",
      "  296: \\x94 MEMOIZE    (as 30)\n",
      "  297: (    MARK\n",
      "  298: h        BINGET     22\n",
      "  300: h        BINGET     16\n",
      "  302: \\x8c     SHORT_BINUNICODE '__qualname__'\n",
      "  316: \\x94     MEMOIZE    (as 31)\n",
      "  317: h        BINGET     16\n",
      "  319: \\x8c     SHORT_BINUNICODE '__annotations__'\n",
      "  336: \\x94     MEMOIZE    (as 32)\n",
      "  337: }        EMPTY_DICT\n",
      "  338: \\x94     MEMOIZE    (as 33)\n",
      "  339: \\x8c     SHORT_BINUNICODE '__kwdefaults__'\n",
      "  355: \\x94     MEMOIZE    (as 34)\n",
      "  356: N        NONE\n",
      "  357: \\x8c     SHORT_BINUNICODE '__defaults__'\n",
      "  371: \\x94     MEMOIZE    (as 35)\n",
      "  372: N        NONE\n",
      "  373: \\x8c     SHORT_BINUNICODE '__module__'\n",
      "  385: \\x94     MEMOIZE    (as 36)\n",
      "  386: h        BINGET     23\n",
      "  388: \\x8c     SHORT_BINUNICODE '__doc__'\n",
      "  397: \\x94     MEMOIZE    (as 37)\n",
      "  398: N        NONE\n",
      "  399: \\x8c     SHORT_BINUNICODE '__closure__'\n",
      "  412: \\x94     MEMOIZE    (as 38)\n",
      "  413: N        NONE\n",
      "  414: \\x8c     SHORT_BINUNICODE '_cloudpickle_submodules'\n",
      "  439: \\x94     MEMOIZE    (as 39)\n",
      "  440: ]        EMPTY_LIST\n",
      "  441: \\x94     MEMOIZE    (as 40)\n",
      "  442: \\x8c     SHORT_BINUNICODE '__globals__'\n",
      "  455: \\x94     MEMOIZE    (as 41)\n",
      "  456: }        EMPTY_DICT\n",
      "  457: \\x94     MEMOIZE    (as 42)\n",
      "  458: h        BINGET     11\n",
      "  460: K        BININT1    5\n",
      "  462: s        SETITEM\n",
      "  463: u        SETITEMS   (MARK at 297)\n",
      "  464: \\x86 TUPLE2\n",
      "  465: \\x94 MEMOIZE    (as 43)\n",
      "  466: \\x86 TUPLE2\n",
      "  467: R    REDUCE\n",
      "  468: 0    POP\n",
      "  469: .    STOP\n",
      "highest protocol among opcodes = 4\n"
     ]
    }
   ],
   "source": [
    "import pickletools\n",
    "pickletools.dis(pickle.dumps(globalVar))"
   ]
  },
  {
   "cell_type": "code",
   "execution_count": 46,
   "metadata": {},
   "outputs": [
    {
     "data": {
      "text/plain": [
       "'    def wrapper(arg1, arg2):\\n        arg1 = arg1.capitalize()\\n        arg2 = \"\\\\\"\" + arg2 + \"\\\\\"\"\\n        return function(arg1, arg2)\\n'"
      ]
     },
     "execution_count": 46,
     "metadata": {},
     "output_type": "execute_result"
    }
   ],
   "source": [
    "def quote_decorator(function):\n",
    "    def wrapper(arg1, arg2):\n",
    "        arg1 = arg1.capitalize()\n",
    "        arg2 = \"\\\"\" + arg2 + \"\\\"\"\n",
    "        return function(arg1, arg2)\n",
    "    return wrapper\n",
    "\n",
    "@quote_decorator\n",
    "def sayWithQuote(name, sentence):\n",
    "    return \"{0} says {1}\".format(name, sentence)\n",
    "    \n",
    "inspect.getsource(sayWithQuote)"
   ]
  },
  {
   "cell_type": "code",
   "execution_count": null,
   "metadata": {},
   "outputs": [],
   "source": []
  }
 ],
 "metadata": {
  "kernelspec": {
   "display_name": "ml",
   "language": "python",
   "name": "ml"
  },
  "language_info": {
   "codemirror_mode": {
    "name": "ipython",
    "version": 3
   },
   "file_extension": ".py",
   "mimetype": "text/x-python",
   "name": "python",
   "nbconvert_exporter": "python",
   "pygments_lexer": "ipython3",
   "version": "3.7.7"
  }
 },
 "nbformat": 4,
 "nbformat_minor": 4
}
